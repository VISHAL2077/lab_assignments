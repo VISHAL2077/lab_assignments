{
  "nbformat": 4,
  "nbformat_minor": 0,
  "metadata": {
    "colab": {
      "provenance": [],
      "authorship_tag": "ABX9TyMtvHRYm4rfvw2W0IeW0OeW",
      "include_colab_link": true
    },
    "kernelspec": {
      "name": "python3",
      "display_name": "Python 3"
    },
    "language_info": {
      "name": "python"
    }
  },
  "cells": [
    {
      "cell_type": "markdown",
      "metadata": {
        "id": "view-in-github",
        "colab_type": "text"
      },
      "source": [
        "<a href=\"https://colab.research.google.com/github/VISHAL2077/lab_assignments/blob/main/2303a52077_A5_B37.ipynb\" target=\"_parent\"><img src=\"https://colab.research.google.com/assets/colab-badge.svg\" alt=\"Open In Colab\"/></a>"
      ]
    },
    {
      "cell_type": "code",
      "execution_count": null,
      "metadata": {
        "id": "Uj-_zlrczq0x"
      },
      "outputs": [],
      "source": [
        "import pandas as pd\n",
        "\n",
        "data = pd.read_csv('/content/Recipe Reviews and User Feedback Dataset.csv')"
      ]
    },
    {
      "cell_type": "code",
      "source": [
        "most_appreciated_recipe = data.groupby('recipe_name')['stars'].mean().idxmax()\n",
        "most_appreciated_recipe_rating = data.groupby('recipe_name')['stars'].mean().max()\n",
        "\n",
        "top_5_prepared_recipes = data['recipe_name'].value_counts().head(5)\n",
        "\n",
        "most_user_delight_recipe = data.groupby('recipe_name')['thumbs_up'].sum().idxmax()\n",
        "most_user_delight_recipe_thumbs = data.groupby('recipe_name')['thumbs_up'].sum().max()\n",
        "\n",
        "highest_reputation_recipe = data.groupby('recipe_name')['user_reputation'].sum().idxmax()\n",
        "highest_reputation_recipe_reputation = data.groupby('recipe_name')['user_reputation'].sum().max()\n",
        "\n",
        "top_100_recipes = data.groupby('recipe_name')['best_score'].max().nlargest(100)\n",
        "\n",
        "print(\"Q1. Most appreciated recipe:\")\n",
        "print(f\"Recipe: {most_appreciated_recipe}, Average Rating: {most_appreciated_recipe_rating:.2f}\\n\")\n",
        "\n",
        "print(\"Q2. Top 5 recipes prepared the most:\")\n",
        "print(top_5_prepared_recipes, \"\\n\")\n",
        "\n",
        "print(\"Q3. Recipe with the most user delight:\")\n",
        "print(f\"Recipe: {most_user_delight_recipe}, Total Thumbs Up: {most_user_delight_recipe_thumbs}\\n\")\n",
        "\n",
        "print(\"Q4. Recipe with the highest reputation:\")\n",
        "print(f\"Recipe: {highest_reputation_recipe}, Total Reputation: {highest_reputation_recipe_reputation}\\n\")\n",
        "\n",
        "print(\"Q5. Top 5 most ordered recipes (based on best scores):\")\n",
        "print(top_100_recipes.head(5))\n"
      ],
      "metadata": {
        "colab": {
          "base_uri": "https://localhost:8080/"
        },
        "id": "C3j1OqJ90GAK",
        "outputId": "ea4c2fa5-a31d-469d-d8ea-84fd63642f2a"
      },
      "execution_count": null,
      "outputs": [
        {
          "output_type": "stream",
          "name": "stdout",
          "text": [
            "Q1. Most appreciated recipe:\n",
            "Recipe: Rustic Italian Tortellini Soup, Average Rating: 4.73\n",
            "\n",
            "Q2. Top 5 recipes prepared the most:\n",
            "recipe_name\n",
            "Cheeseburger Soup         725\n",
            "Creamy White Chili        654\n",
            "Best Ever Banana Bread    509\n",
            "Enchilada Casser-Ole!     421\n",
            "Basic Homemade Bread      397\n",
            "Name: count, dtype: int64 \n",
            "\n",
            "Q3. Recipe with the most user delight:\n",
            "Recipe: Amish Breakfast Casserole, Total Thumbs Up: 971\n",
            "\n",
            "Q4. Recipe with the highest reputation:\n",
            "Recipe: Cheeseburger Soup, Total Reputation: 1179\n",
            "\n",
            "Q5. Top 5 most ordered recipes (based on best scores):\n",
            "recipe_name\n",
            "Taco Lasagna                 946\n",
            "Simple Taco Soup             934\n",
            "Simple Au Gratin Potatoes    931\n",
            "Basic Homemade Bread         928\n",
            "Cheeseburger Soup            928\n",
            "Name: best_score, dtype: int64\n"
          ]
        }
      ]
    }
  ]
}