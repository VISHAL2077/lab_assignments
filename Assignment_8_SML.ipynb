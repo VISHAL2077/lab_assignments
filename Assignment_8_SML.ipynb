{
  "nbformat": 4,
  "nbformat_minor": 0,
  "metadata": {
    "colab": {
      "provenance": [],
      "mount_file_id": "1W4erzrbgDvc_a4Xg8riivm6ohfhbC1nu",
      "authorship_tag": "ABX9TyMnh3YLSiEf+IlB4w4rdIaL",
      "include_colab_link": true
    },
    "kernelspec": {
      "name": "python3",
      "display_name": "Python 3"
    },
    "language_info": {
      "name": "python"
    }
  },
  "cells": [
    {
      "cell_type": "markdown",
      "metadata": {
        "id": "view-in-github",
        "colab_type": "text"
      },
      "source": [
        "<a href=\"https://colab.research.google.com/github/VISHAL2077/lab_assignments/blob/main/Assignment_8_SML.ipynb\" target=\"_parent\"><img src=\"https://colab.research.google.com/assets/colab-badge.svg\" alt=\"Open In Colab\"/></a>"
      ]
    },
    {
      "cell_type": "code",
      "execution_count": 15,
      "metadata": {
        "colab": {
          "base_uri": "https://localhost:8080/"
        },
        "id": "TXPhIo1Xl5v5",
        "outputId": "822ecc4d-53cd-4b09-c81f-abe5054c222a"
      },
      "outputs": [
        {
          "output_type": "stream",
          "name": "stdout",
          "text": [
            "   X1  X2  X3  X4   X5  Pass/Fail\n",
            "0  10  90  85   1  100          1\n",
            "1   5  60  70   0   80          0\n",
            "2  15  95  90   1  100          1\n",
            "3   2  30  50   0   40          0\n",
            "4  12  85  88   1   90          1\n",
            "Accuracy: 1.0\n",
            "Classification Report:\n",
            "              precision    recall  f1-score   support\n",
            "\n",
            "           0       1.00      1.00      1.00         1\n",
            "           1       1.00      1.00      1.00         1\n",
            "\n",
            "    accuracy                           1.00         2\n",
            "   macro avg       1.00      1.00      1.00         2\n",
            "weighted avg       1.00      1.00      1.00         2\n",
            "\n",
            "Confusion Matrix:\n",
            "[[1 0]\n",
            " [0 1]]\n"
          ]
        }
      ],
      "source": [
        "#Question 1, Assignment 8\n",
        "import pandas as pd\n",
        "from sklearn.model_selection import train_test_split\n",
        "from sklearn.linear_model import LogisticRegression\n",
        "from sklearn.metrics import accuracy_score, classification_report, confusion_matrix\n",
        "\n",
        "data = pd.read_csv('/content/sample_data/Untitled spreadsheet.csv')\n",
        "\n",
        "df = pd.DataFrame(data)\n",
        "print(df.head())\n",
        "\n",
        "X = df.drop('Pass/Fail', axis=1)\n",
        "y = df['Pass/Fail']\n",
        "\n",
        "X_train, X_test, y_train, y_test = train_test_split(X, y, test_size=0.2, random_state=42)\n",
        "\n",
        "model = LogisticRegression()\n",
        "\n",
        "model.fit(X_train, y_train)\n",
        "\n",
        "y_pred = model.predict(X_test)\n",
        "\n",
        "accuracy = accuracy_score(y_test, y_pred)\n",
        "print(\"Accuracy:\", accuracy)\n",
        "print(\"Classification Report:\")\n",
        "print(classification_report(y_test, y_pred))\n",
        "print(\"Confusion Matrix:\")\n",
        "print(confusion_matrix(y_test, y_pred))"
      ]
    },
    {
      "cell_type": "code",
      "source": [
        "#Question 2, Assignment 8\n",
        "import pandas as pd\n",
        "from sklearn.model_selection import train_test_split\n",
        "from sklearn.linear_model import LogisticRegression\n",
        "from sklearn.metrics import accuracy_score, classification_report, confusion_matrix\n",
        "from sklearn.preprocessing import LabelEncoder\n",
        "\n",
        "data = pd.read_csv('/content/sample_data/diabetes_data_upload.csv')\n",
        "print(data.head())\n",
        "\n",
        "label_encoders = {}\n",
        "for column in data.select_dtypes(include=['object']).columns:\n",
        "    le = LabelEncoder()\n",
        "    data[column] = le.fit_transform(data[column])\n",
        "    label_encoders[column] = le\n",
        "\n",
        "le_target = LabelEncoder()\n",
        "data['class'] = le_target.fit_transform(data['class'])\n",
        "\n",
        "X = data.drop('class', axis=1)\n",
        "y = data['class']\n",
        "\n",
        "X_train, X_test, y_train, y_test = train_test_split(X, y, test_size=0.2, random_state=42)\n",
        "\n",
        "model = LogisticRegression(max_iter=200)\n",
        "\n",
        "model.fit(X_train, y_train)\n",
        "\n",
        "y_pred = model.predict(X_test)\n",
        "\n",
        "accuracy = accuracy_score(y_test, y_pred)\n",
        "print(\"Accuracy:\", accuracy)\n",
        "print(\"Classification Report:\")\n",
        "print(classification_report(y_test, y_pred))\n",
        "print(\"Confusion Matrix:\")\n",
        "print(confusion_matrix(y_test, y_pred))"
      ],
      "metadata": {
        "colab": {
          "base_uri": "https://localhost:8080/"
        },
        "id": "XrXrP57Tt1oR",
        "outputId": "6544f3d5-540b-4f73-94ff-1565c02f83bd"
      },
      "execution_count": 16,
      "outputs": [
        {
          "output_type": "stream",
          "name": "stdout",
          "text": [
            "   Age Gender Polyuria Polydipsia sudden weight loss weakness Polyphagia  \\\n",
            "0   40   Male       No        Yes                 No      Yes         No   \n",
            "1   58   Male       No         No                 No      Yes         No   \n",
            "2   41   Male      Yes         No                 No      Yes        Yes   \n",
            "3   45   Male       No         No                Yes      Yes        Yes   \n",
            "4   60   Male      Yes        Yes                Yes      Yes        Yes   \n",
            "\n",
            "  Genital thrush visual blurring Itching Irritability delayed healing  \\\n",
            "0             No              No     Yes           No             Yes   \n",
            "1             No             Yes      No           No              No   \n",
            "2             No              No     Yes           No             Yes   \n",
            "3            Yes              No     Yes           No             Yes   \n",
            "4             No             Yes     Yes          Yes             Yes   \n",
            "\n",
            "  partial paresis muscle stiffness Alopecia Obesity     class  \n",
            "0              No              Yes      Yes     Yes  Positive  \n",
            "1             Yes               No      Yes      No  Positive  \n",
            "2              No              Yes      Yes      No  Positive  \n",
            "3              No               No       No      No  Positive  \n",
            "4             Yes              Yes      Yes     Yes  Positive  \n",
            "Accuracy: 0.9230769230769231\n",
            "Classification Report:\n",
            "              precision    recall  f1-score   support\n",
            "\n",
            "           0       0.90      0.85      0.88        33\n",
            "           1       0.93      0.96      0.94        71\n",
            "\n",
            "    accuracy                           0.92       104\n",
            "   macro avg       0.92      0.90      0.91       104\n",
            "weighted avg       0.92      0.92      0.92       104\n",
            "\n",
            "Confusion Matrix:\n",
            "[[28  5]\n",
            " [ 3 68]]\n"
          ]
        }
      ]
    }
  ]
}