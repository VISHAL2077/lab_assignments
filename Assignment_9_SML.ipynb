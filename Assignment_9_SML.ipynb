{
  "nbformat": 4,
  "nbformat_minor": 0,
  "metadata": {
    "colab": {
      "provenance": [],
      "authorship_tag": "ABX9TyPEQBh/LSWBq9RZQE+02jY0",
      "include_colab_link": true
    },
    "kernelspec": {
      "name": "python3",
      "display_name": "Python 3"
    },
    "language_info": {
      "name": "python"
    }
  },
  "cells": [
    {
      "cell_type": "markdown",
      "metadata": {
        "id": "view-in-github",
        "colab_type": "text"
      },
      "source": [
        "<a href=\"https://colab.research.google.com/github/VISHAL2077/lab_assignments/blob/main/Assignment_9_SML.ipynb\" target=\"_parent\"><img src=\"https://colab.research.google.com/assets/colab-badge.svg\" alt=\"Open In Colab\"/></a>"
      ]
    },
    {
      "cell_type": "code",
      "source": [
        "#ASSIGNMENT - 9\n",
        "\n",
        "import pandas as pd\n",
        "from sklearn.model_selection import train_test_split\n",
        "from sklearn.linear_model import LogisticRegression\n",
        "from sklearn.metrics import accuracy_score\n",
        "\n",
        "data = pd.read_csv('/content/breast_cancer_survival (1).csv')\n",
        "\n",
        "print(\"Column Names:\")\n",
        "print(data.columns)\n",
        "\n",
        "print(\"\\nFirst Few Rows of Data:\")\n",
        "print(data.head())\n",
        "\n",
        "print(\"\\nMissing Values Count:\")\n",
        "print(data.isnull().sum())\n",
        "\n",
        "data = data.dropna()\n",
        "\n",
        "print(\"\\nMissing Values Count After Handling:\")\n",
        "print(data.isnull().sum())\n",
        "\n",
        "X = data.drop(columns=['Patient_Status'])\n",
        "y = data['Patient_Status']\n",
        "\n",
        "X = pd.get_dummies(X, drop_first=True)\n",
        "\n",
        "test_sizes = [0.2, 0.3, 0.4]\n",
        "\n",
        "for size in test_sizes:\n",
        "\n",
        "    X_train, X_test, y_train, y_test = train_test_split(X, y, test_size=size, random_state=42)\n",
        "\n",
        "    model = LogisticRegression()\n",
        "\n",
        "    model.fit(X_train, y_train)\n",
        "\n",
        "    y_pred = model.predict(X_test)\n",
        "\n",
        "    accuracy = accuracy_score(y_test, y_pred)\n",
        "    print(f'Accuracy with test size {size}: {accuracy:.2f}')\n"
      ],
      "metadata": {
        "colab": {
          "base_uri": "https://localhost:8080/"
        },
        "id": "c70K4xSfsMqi",
        "outputId": "4991310b-2c26-441a-ba97-6516ce39f21e"
      },
      "execution_count": 2,
      "outputs": [
        {
          "output_type": "stream",
          "name": "stdout",
          "text": [
            "Column Names:\n",
            "Index(['Age', 'Gender', 'Protein1', 'Protein2', 'Protein3', 'Protein4',\n",
            "       'Tumour_Stage', 'Histology', 'ER status', 'PR status', 'HER2 status',\n",
            "       'Surgery_type', 'Date_of_Surgery', 'Date_of_Last_Visit',\n",
            "       'Patient_Status'],\n",
            "      dtype='object')\n",
            "\n",
            "First Few Rows of Data:\n",
            "   Age  Gender  Protein1  Protein2  Protein3  Protein4 Tumour_Stage  \\\n",
            "0   42  FEMALE   0.95256   2.15000  0.007972 -0.048340           II   \n",
            "1   54  FEMALE   0.00000   1.38020 -0.498030 -0.507320           II   \n",
            "2   63  FEMALE  -0.52303   1.76400 -0.370190  0.010815           II   \n",
            "3   78  FEMALE  -0.87618   0.12943 -0.370380  0.132190            I   \n",
            "4   42  FEMALE   0.22611   1.74910 -0.543970 -0.390210           II   \n",
            "\n",
            "                       Histology ER status PR status HER2 status Surgery_type  \\\n",
            "0  Infiltrating Ductal Carcinoma  Positive  Positive    Negative        Other   \n",
            "1  Infiltrating Ductal Carcinoma  Positive  Positive    Negative        Other   \n",
            "2  Infiltrating Ductal Carcinoma  Positive  Positive    Negative   Lumpectomy   \n",
            "3  Infiltrating Ductal Carcinoma  Positive  Positive    Negative        Other   \n",
            "4  Infiltrating Ductal Carcinoma  Positive  Positive    Positive   Lumpectomy   \n",
            "\n",
            "  Date_of_Surgery Date_of_Last_Visit Patient_Status  \n",
            "0       20-May-18          26-Aug-18          Alive  \n",
            "1       26-Apr-18          25-Jan-19           Dead  \n",
            "2       24-Aug-18          08-Apr-20          Alive  \n",
            "3       16-Nov-18          28-Jul-20          Alive  \n",
            "4       12-Dec-18          05-Jan-19          Alive  \n",
            "\n",
            "Missing Values Count:\n",
            "Age                    0\n",
            "Gender                 0\n",
            "Protein1               0\n",
            "Protein2               0\n",
            "Protein3               0\n",
            "Protein4               0\n",
            "Tumour_Stage           0\n",
            "Histology              0\n",
            "ER status              0\n",
            "PR status              0\n",
            "HER2 status            0\n",
            "Surgery_type           0\n",
            "Date_of_Surgery        0\n",
            "Date_of_Last_Visit    17\n",
            "Patient_Status        13\n",
            "dtype: int64\n",
            "\n",
            "Missing Values Count After Handling:\n",
            "Age                   0\n",
            "Gender                0\n",
            "Protein1              0\n",
            "Protein2              0\n",
            "Protein3              0\n",
            "Protein4              0\n",
            "Tumour_Stage          0\n",
            "Histology             0\n",
            "ER status             0\n",
            "PR status             0\n",
            "HER2 status           0\n",
            "Surgery_type          0\n",
            "Date_of_Surgery       0\n",
            "Date_of_Last_Visit    0\n",
            "Patient_Status        0\n",
            "dtype: int64\n",
            "Accuracy with test size 0.2: 0.80\n"
          ]
        },
        {
          "output_type": "stream",
          "name": "stderr",
          "text": [
            "/usr/local/lib/python3.10/dist-packages/sklearn/linear_model/_logistic.py:469: ConvergenceWarning: lbfgs failed to converge (status=1):\n",
            "STOP: TOTAL NO. of ITERATIONS REACHED LIMIT.\n",
            "\n",
            "Increase the number of iterations (max_iter) or scale the data as shown in:\n",
            "    https://scikit-learn.org/stable/modules/preprocessing.html\n",
            "Please also refer to the documentation for alternative solver options:\n",
            "    https://scikit-learn.org/stable/modules/linear_model.html#logistic-regression\n",
            "  n_iter_i = _check_optimize_result(\n",
            "/usr/local/lib/python3.10/dist-packages/sklearn/linear_model/_logistic.py:469: ConvergenceWarning: lbfgs failed to converge (status=1):\n",
            "STOP: TOTAL NO. of ITERATIONS REACHED LIMIT.\n",
            "\n",
            "Increase the number of iterations (max_iter) or scale the data as shown in:\n",
            "    https://scikit-learn.org/stable/modules/preprocessing.html\n",
            "Please also refer to the documentation for alternative solver options:\n",
            "    https://scikit-learn.org/stable/modules/linear_model.html#logistic-regression\n",
            "  n_iter_i = _check_optimize_result(\n"
          ]
        },
        {
          "output_type": "stream",
          "name": "stdout",
          "text": [
            "Accuracy with test size 0.3: 0.78\n",
            "Accuracy with test size 0.4: 0.80\n"
          ]
        },
        {
          "output_type": "stream",
          "name": "stderr",
          "text": [
            "/usr/local/lib/python3.10/dist-packages/sklearn/linear_model/_logistic.py:469: ConvergenceWarning: lbfgs failed to converge (status=1):\n",
            "STOP: TOTAL NO. of ITERATIONS REACHED LIMIT.\n",
            "\n",
            "Increase the number of iterations (max_iter) or scale the data as shown in:\n",
            "    https://scikit-learn.org/stable/modules/preprocessing.html\n",
            "Please also refer to the documentation for alternative solver options:\n",
            "    https://scikit-learn.org/stable/modules/linear_model.html#logistic-regression\n",
            "  n_iter_i = _check_optimize_result(\n"
          ]
        }
      ]
    },
    {
      "cell_type": "code",
      "source": [
        "import pandas as pd\n",
        "from sklearn.model_selection import train_test_split\n",
        "from sklearn.linear_model import LogisticRegression\n",
        "from sklearn.metrics import accuracy_score\n",
        "\n",
        "data = pd.read_csv('/content/breast_cancer_survival (1).csv')\n",
        "\n",
        "print(\"Missing Values Count:\")\n",
        "print(data.isnull().sum())\n",
        "\n",
        "data = data.dropna()\n",
        "\n",
        "X = data.drop(columns=['Patient_Status'])\n",
        "y = data['Patient_Status']\n",
        "\n",
        "X = pd.get_dummies(X, drop_first=True)\n",
        "\n",
        "test_sizes = [0.2, 0.3, 0.4]\n",
        "accuracies = []\n",
        "\n",
        "for size in test_sizes:\n",
        "\n",
        "    X_train, X_test, y_train, y_test = train_test_split(X, y, test_size=size, random_state=42)\n",
        "\n",
        "    model = LogisticRegression(max_iter=1000)\n",
        "    model.fit(X_train, y_train)\n",
        "\n",
        "    y_pred = model.predict(X_test)\n",
        "\n",
        "    accuracy = accuracy_score(y_test, y_pred)\n",
        "    accuracies.append(accuracy)\n",
        "\n",
        "    print(f'Accuracy with test size {size}: {accuracy:.2f}')\n",
        "\n",
        "print(\"\\nSummary of Accuracies:\")\n",
        "for size, accuracy in zip(test_sizes, accuracies):\n",
        "    print(f'Test Size: {size}, Accuracy: {accuracy:.2f}')"
      ],
      "metadata": {
        "colab": {
          "base_uri": "https://localhost:8080/"
        },
        "id": "e4t32prttbJL",
        "outputId": "72e341b0-e04b-499e-92ee-d56acf9e04ec"
      },
      "execution_count": 3,
      "outputs": [
        {
          "output_type": "stream",
          "name": "stdout",
          "text": [
            "Missing Values Count:\n",
            "Age                    0\n",
            "Gender                 0\n",
            "Protein1               0\n",
            "Protein2               0\n",
            "Protein3               0\n",
            "Protein4               0\n",
            "Tumour_Stage           0\n",
            "Histology              0\n",
            "ER status              0\n",
            "PR status              0\n",
            "HER2 status            0\n",
            "Surgery_type           0\n",
            "Date_of_Surgery        0\n",
            "Date_of_Last_Visit    17\n",
            "Patient_Status        13\n",
            "dtype: int64\n",
            "Accuracy with test size 0.2: 0.80\n",
            "Accuracy with test size 0.3: 0.78\n",
            "Accuracy with test size 0.4: 0.80\n",
            "\n",
            "Summary of Accuracies:\n",
            "Test Size: 0.2, Accuracy: 0.80\n",
            "Test Size: 0.3, Accuracy: 0.78\n",
            "Test Size: 0.4, Accuracy: 0.80\n"
          ]
        }
      ]
    }
  ]
}