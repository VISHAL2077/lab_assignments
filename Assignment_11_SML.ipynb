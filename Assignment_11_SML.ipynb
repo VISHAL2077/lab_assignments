{
  "nbformat": 4,
  "nbformat_minor": 0,
  "metadata": {
    "colab": {
      "provenance": [],
      "authorship_tag": "ABX9TyPpeTWzOIHoIzhWlLk4sZw3",
      "include_colab_link": true
    },
    "kernelspec": {
      "name": "python3",
      "display_name": "Python 3"
    },
    "language_info": {
      "name": "python"
    }
  },
  "cells": [
    {
      "cell_type": "markdown",
      "metadata": {
        "id": "view-in-github",
        "colab_type": "text"
      },
      "source": [
        "<a href=\"https://colab.research.google.com/github/VISHAL2077/lab_assignments/blob/main/Assignment_11_SML.ipynb\" target=\"_parent\"><img src=\"https://colab.research.google.com/assets/colab-badge.svg\" alt=\"Open In Colab\"/></a>"
      ]
    },
    {
      "cell_type": "code",
      "source": [
        "import pandas as pd\n",
        "\n",
        "data = pd.read_csv('/content/breast_cancer_survival.csv')\n",
        "\n",
        "print(data.head())"
      ],
      "metadata": {
        "colab": {
          "base_uri": "https://localhost:8080/"
        },
        "id": "SN2gBSer1xXR",
        "outputId": "03c37323-ab18-4772-9a0b-635bcc32bbba"
      },
      "execution_count": 15,
      "outputs": [
        {
          "output_type": "stream",
          "name": "stdout",
          "text": [
            "   Age  Gender  Protein1  Protein2  Protein3  Protein4 Tumour_Stage  \\\n",
            "0   42  FEMALE   0.95256   2.15000  0.007972 -0.048340           II   \n",
            "1   54  FEMALE   0.00000   1.38020 -0.498030 -0.507320           II   \n",
            "2   63  FEMALE  -0.52303   1.76400 -0.370190  0.010815           II   \n",
            "3   78  FEMALE  -0.87618   0.12943 -0.370380  0.132190            I   \n",
            "4   42  FEMALE   0.22611   1.74910 -0.543970 -0.390210           II   \n",
            "\n",
            "                       Histology ER status PR status HER2 status Surgery_type  \\\n",
            "0  Infiltrating Ductal Carcinoma  Positive  Positive    Negative        Other   \n",
            "1  Infiltrating Ductal Carcinoma  Positive  Positive    Negative        Other   \n",
            "2  Infiltrating Ductal Carcinoma  Positive  Positive    Negative   Lumpectomy   \n",
            "3  Infiltrating Ductal Carcinoma  Positive  Positive    Negative        Other   \n",
            "4  Infiltrating Ductal Carcinoma  Positive  Positive    Positive   Lumpectomy   \n",
            "\n",
            "  Date_of_Surgery Date_of_Last_Visit Patient_Status  \n",
            "0       20-May-18          26-Aug-18          Alive  \n",
            "1       26-Apr-18          25-Jan-19           Dead  \n",
            "2       24-Aug-18          08-Apr-20          Alive  \n",
            "3       16-Nov-18          28-Jul-20          Alive  \n",
            "4       12-Dec-18          05-Jan-19          Alive  \n"
          ]
        }
      ]
    },
    {
      "cell_type": "code",
      "source": [
        "X = data.drop('Patient_Status', axis=1)  # Features\n",
        "y = data['Patient_Status']  # Target variable"
      ],
      "metadata": {
        "id": "TTbMO0Fh3mAq"
      },
      "execution_count": 32,
      "outputs": []
    },
    {
      "cell_type": "code",
      "source": [
        "from sklearn.preprocessing import StandardScaler\n",
        "from sklearn.preprocessing import OneHotEncoder\n",
        "from sklearn.compose import ColumnTransformer\n",
        "from sklearn.pipeline import Pipeline\n",
        "\n",
        "categorical_cols = ['Gender']\n",
        "numerical_cols = X.select_dtypes(include=['float64', 'int64']).columns.tolist()\n",
        "\n",
        "preprocessor = ColumnTransformer(\n",
        "    transformers=[\n",
        "        ('num', StandardScaler(), numerical_cols),\n",
        "        ('cat', OneHotEncoder(), categorical_cols)\n",
        "    ])\n",
        "\n",
        "X_processed = preprocessor.fit_transform(X)"
      ],
      "metadata": {
        "id": "y7YVP-1-3nKs"
      },
      "execution_count": 33,
      "outputs": []
    },
    {
      "cell_type": "code",
      "source": [
        "X_train, X_test, y_train, y_test = train_test_split(X_processed, y, test_size=0.2, random_state=42)\n",
        "\n",
        "svm_model = SVC()\n",
        "knn_model = KNeighborsClassifier()\n",
        "logistic_model = LogisticRegression(max_iter=1000)\n",
        "\n",
        "# Train and evaluate SVM\n",
        "svm_model.fit(X_train, y_train)\n",
        "svm_predictions = svm_model.predict(X_test)\n",
        "svm_accuracy = accuracy_score(y_test, svm_predictions)\n",
        "print(f'SVM Accuracy: {svm_accuracy:.2f}')\n",
        "\n",
        "# Train and evaluate KNN\n",
        "knn_model.fit(X_train, y_train)\n",
        "knn_predictions = knn_model.predict(X_test)\n",
        "knn_accuracy = accuracy_score(y_test, knn_predictions)\n",
        "print(f'KNN Accuracy: {knn_accuracy:.2f}')\n",
        "\n",
        "# Train and evaluate Logistic Regression\n",
        "logistic_model.fit(X_train, y_train)\n",
        "logistic_predictions = logistic_model.predict(X_test)\n",
        "logistic_accuracy = accuracy_score(y_test, logistic_predictions)\n",
        "print(f'Logistic Regression Accuracy: {logistic_accuracy:.2f}')"
      ],
      "metadata": {
        "colab": {
          "base_uri": "https://localhost:8080/"
        },
        "id": "O_TaSi2Y3vzO",
        "outputId": "caaacd3c-233b-406d-b486-36b1ee3e1164"
      },
      "execution_count": 34,
      "outputs": [
        {
          "output_type": "stream",
          "name": "stdout",
          "text": [
            "SVM Accuracy: 0.82\n",
            "KNN Accuracy: 0.79\n",
            "Logistic Regression Accuracy: 0.82\n"
          ]
        }
      ]
    },
    {
      "cell_type": "code",
      "source": [
        "# Apply PCA\n",
        "from sklearn.decomposition import PCA\n",
        "\n",
        "pca = PCA(n_components=2)\n",
        "X_pca = pca.fit_transform(X_processed)\n",
        "\n",
        "X_train_pca, X_test_pca, y_train_pca, y_test_pca = train_test_split(X_pca, y, test_size=0.2, random_state=42)\n",
        "\n",
        "# Train and evaluate SVM on PCA-reduced data\n",
        "svm_model.fit(X_train_pca, y_train_pca)\n",
        "svm_predictions_pca = svm_model.predict(X_test_pca)\n",
        "svm_accuracy_pca = accuracy_score(y_test_pca, svm_predictions_pca)\n",
        "print(f'SVM Accuracy after PCA: {svm_accuracy_pca:.2f}')\n",
        "\n",
        "# Train and evaluate KNN on PCA-reduced data\n",
        "knn_model.fit(X_train_pca, y_train_pca)\n",
        "knn_predictions_pca = knn_model.predict(X_test_pca)\n",
        "knn_accuracy_pca = accuracy_score(y_test_pca, knn_predictions_pca)\n",
        "print(f'KNN Accuracy after PCA: {knn_accuracy_pca:.2f}')\n",
        "\n",
        "# Train and evaluate Logistic Regression on PCA-reduced data\n",
        "logistic_model.fit(X_train_pca, y_train_pca)\n",
        "logistic_predictions_pca = logistic_model.predict(X_test_pca)\n",
        "logistic_accuracy_pca = accuracy_score(y_test_pca, logistic_predictions_pca)\n",
        "print(f'Logistic Regression Accuracy after PCA: {logistic_accuracy_pca:.2f}')"
      ],
      "metadata": {
        "colab": {
          "base_uri": "https://localhost:8080/"
        },
        "id": "CZWtrSEn32oP",
        "outputId": "0bb425af-c4a6-4555-85ac-b4efff172fc7"
      },
      "execution_count": 35,
      "outputs": [
        {
          "output_type": "stream",
          "name": "stdout",
          "text": [
            "SVM Accuracy after PCA: 0.82\n",
            "KNN Accuracy after PCA: 0.78\n",
            "Logistic Regression Accuracy after PCA: 0.82\n"
          ]
        }
      ]
    }
  ]
}